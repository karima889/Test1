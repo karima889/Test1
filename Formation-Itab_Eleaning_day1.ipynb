{
  "nbformat": 4,
  "nbformat_minor": 0,
  "metadata": {
    "colab": {
      "provenance": [],
      "authorship_tag": "ABX9TyMJ7H1YOufQL6EHhLsqOYBB",
      "include_colab_link": true
    },
    "kernelspec": {
      "name": "python3",
      "display_name": "Python 3"
    },
    "language_info": {
      "name": "python"
    }
  },
  "cells": [
    {
      "cell_type": "markdown",
      "metadata": {
        "id": "view-in-github",
        "colab_type": "text"
      },
      "source": [
        "<a href=\"https://colab.research.google.com/github/karima889/Test1/blob/main/Formation-Itab_Eleaning_day1.ipynb\" target=\"_parent\"><img src=\"https://colab.research.google.com/assets/colab-badge.svg\" alt=\"Open In Colab\"/></a>"
      ]
    },
    {
      "cell_type": "code",
      "execution_count": 1,
      "metadata": {
        "colab": {
          "base_uri": "https://localhost:8080/"
        },
        "id": "4dnTUXqZoAH8",
        "outputId": "facaf188-f395-4fb6-fe79-9e2a39bcfe62"
      },
      "outputs": [
        {
          "output_type": "execute_result",
          "data": {
            "text/plain": [
              "24"
            ]
          },
          "metadata": {},
          "execution_count": 1
        }
      ],
      "source": [
        "var1=2*3*4\n",
        "var1"
      ]
    },
    {
      "cell_type": "code",
      "source": [
        "#this is a comment\n",
        "if 5>2:\n",
        "      print(\"hello,world!\")\n",
        "      print(\"hello,world!\")\n"
      ],
      "metadata": {
        "colab": {
          "base_uri": "https://localhost:8080/"
        },
        "id": "eDvBXywtxbSo",
        "outputId": "a4d40b8c-a652-4451-a28d-b2310d5a6c46"
      },
      "execution_count": 15,
      "outputs": [
        {
          "output_type": "stream",
          "name": "stdout",
          "text": [
            "hello,world!\n",
            "hello,world!\n"
          ]
        }
      ]
    },
    {
      "cell_type": "code",
      "source": [
        "pi=3.14  #approximative\n",
        "diameter=3\n",
        "#Create a variable called 'radius' equal to half the diameter\n",
        "radius=diameter/2\n",
        "#Calculate the area: pi*R2.\n",
        "area=pi*radius**2\n",
        "area\n",
        "x=6\n",
        "y=7\n",
        "print(x,y)\n"
      ],
      "metadata": {
        "colab": {
          "base_uri": "https://localhost:8080/"
        },
        "id": "QkUNIU7U9D3u",
        "outputId": "c060c077-f749-4faf-f288-1ed3bf63818f"
      },
      "execution_count": 16,
      "outputs": [
        {
          "output_type": "stream",
          "name": "stdout",
          "text": [
            "6 7\n"
          ]
        }
      ]
    },
    {
      "cell_type": "code",
      "source": [
        "x=\"amazing\"\n",
        "def myfunc():\n",
        "  global x\n",
        "  x=\"fantastic\"\n",
        "  print(\"this is \"+ x)\n",
        " \n",
        "myfunc()\n",
        "\n",
        "print(\"this is \"+x)"
      ],
      "metadata": {
        "colab": {
          "base_uri": "https://localhost:8080/"
        },
        "id": "NGjEQk4CGpSI",
        "outputId": "80d087b2-2b27-4187-f056-3ee2dc847278"
      },
      "execution_count": 33,
      "outputs": [
        {
          "output_type": "stream",
          "name": "stdout",
          "text": [
            "this is fantastic\n",
            "this is fantastic\n"
          ]
        }
      ]
    },
    {
      "cell_type": "code",
      "source": [
        "a=[1,2,3]\n",
        "b=[5,8,9]\n",
        "temp=a\n",
        "a=b\n",
        "b=temp\n",
        "print(a)\n",
        "print(b)\n"
      ],
      "metadata": {
        "colab": {
          "base_uri": "https://localhost:8080/"
        },
        "id": "GmIkDu2-LQ_R",
        "outputId": "42ebda3c-4075-477e-ffd6-2f5cebd66bb7"
      },
      "execution_count": 34,
      "outputs": [
        {
          "output_type": "stream",
          "name": "stdout",
          "text": [
            "[5, 8, 9]\n",
            "[1, 2, 3]\n"
          ]
        }
      ]
    },
    {
      "cell_type": "code",
      "source": [
        "x=\"hello world\"\n",
        "print(x)\n",
        "print(type(x),'\\n')\n",
        "x=7\n",
        "print(x)\n",
        "print(type(x),'\\n')\n",
        "x=7.9\n",
        "print(x)\n",
        "print(type(x),'\\n')\n",
        "x=1j\n",
        "print(x)\n",
        "print(type(x),'\\n')"
      ],
      "metadata": {
        "colab": {
          "base_uri": "https://localhost:8080/"
        },
        "id": "gfS75ryiMWYn",
        "outputId": "7a481dbd-59c9-4235-da43-7d3122802930"
      },
      "execution_count": 35,
      "outputs": [
        {
          "output_type": "stream",
          "name": "stdout",
          "text": [
            "hello world\n",
            "<class 'str'> \n",
            "\n",
            "7\n",
            "<class 'int'> \n",
            "\n",
            "7.9\n",
            "<class 'float'> \n",
            "\n",
            "1j\n",
            "<class 'complex'> \n",
            "\n"
          ]
        }
      ]
    },
    {
      "cell_type": "code",
      "source": [
        "x=[\"apple\",\"banana\",\"orange\"]\n",
        "print(x)\n",
        "print(type(x),'\\n')\n",
        "x={\"apple\",\"banana\",\"orange\"}\n",
        "print(x)\n",
        "print(type(x),'\\n')\n",
        "x=(\"apple\",\"banana\",\"orange\")\n",
        "print(x)\n",
        "print(type(x),'\\n')\n",
        "x={\"name\":\"karima\",\"age\":34}\n",
        "print(x)\n",
        "print(type(x),'\\n')"
      ],
      "metadata": {
        "colab": {
          "base_uri": "https://localhost:8080/"
        },
        "id": "qNn50p9QPmyK",
        "outputId": "88713ab6-4c78-46fb-f2e1-9b14babc6a18"
      },
      "execution_count": 36,
      "outputs": [
        {
          "output_type": "stream",
          "name": "stdout",
          "text": [
            "['apple', 'banana', 'orange']\n",
            "<class 'list'> \n",
            "\n",
            "{'banana', 'orange', 'apple'}\n",
            "<class 'set'> \n",
            "\n",
            "('apple', 'banana', 'orange')\n",
            "<class 'tuple'> \n",
            "\n",
            "{'name': 'karima', 'age': 34}\n",
            "<class 'dict'> \n",
            "\n"
          ]
        }
      ]
    },
    {
      "cell_type": "code",
      "source": [
        "x=6\n",
        "y=5.6\n",
        "z=1j\n",
        "a=float(x)\n",
        "b=int(y)\n",
        "c=complex(x)\n",
        "d=str(\"S1\")\n",
        "print(a)\n",
        "print(b)\n",
        "print(c)\n",
        "print(d)\n",
        "print(type(a))\n",
        "print(type(b))\n",
        "print(type(c))\n",
        "print(type(d))"
      ],
      "metadata": {
        "colab": {
          "base_uri": "https://localhost:8080/"
        },
        "id": "YViIoDFJQdtC",
        "outputId": "e78469fb-0ba9-48c4-ad89-59bdbb397fff"
      },
      "execution_count": 40,
      "outputs": [
        {
          "output_type": "stream",
          "name": "stdout",
          "text": [
            "6.0\n",
            "5\n",
            "(6+0j)\n",
            "S1\n",
            "<class 'float'>\n",
            "<class 'int'>\n",
            "<class 'complex'>\n",
            "<class 'str'>\n"
          ]
        }
      ]
    },
    {
      "cell_type": "code",
      "source": [
        "name=str(\"moumane\")\n",
        "print(name[1])\n",
        "print(name[2:4])\n",
        "print(len(name))\n",
        "prenom=\"  karima,moumane  \"\n",
        "print(prenom.strip())\n",
        "print(name.upper())\n",
        "print(name.lower())\n",
        "print(name.replace(\"M\",\"K\"))\n",
        "print(prenom.split(\",\"))"
      ],
      "metadata": {
        "colab": {
          "base_uri": "https://localhost:8080/"
        },
        "id": "XVQDWhL8RmmK",
        "outputId": "4445a19c-0807-4c1f-da5b-02bffdbdec01"
      },
      "execution_count": 52,
      "outputs": [
        {
          "output_type": "stream",
          "name": "stdout",
          "text": [
            "o\n",
            "um\n",
            "7\n",
            "karima,moumane\n",
            "MOUMANE\n",
            "moumane\n",
            "moumane\n",
            "['  karima', 'moumane  ']\n"
          ]
        }
      ]
    },
    {
      "cell_type": "code",
      "source": [
        "txt=\"moumane karim at work\"\n",
        "y=\"li\" in txt\n",
        "print(y)\n",
        "txte=\"my name is \\\"karima\\\" and i am {}\"\n",
        "print(txte.format(34))"
      ],
      "metadata": {
        "colab": {
          "base_uri": "https://localhost:8080/"
        },
        "id": "nWL82vWgTZN1",
        "outputId": "fec37085-9703-43f4-9bb1-7ad7a4df74b2"
      },
      "execution_count": 57,
      "outputs": [
        {
          "output_type": "stream",
          "name": "stdout",
          "text": [
            "False\n",
            "my name is \"karima\" and i am 34\n"
          ]
        }
      ]
    },
    {
      "cell_type": "code",
      "source": [
        "a=300\n",
        "b=10\n",
        "print(a>b)\n",
        "if b>a:\n",
        " print(\"b greater than a\")\n",
        "else:\n",
        " print(\"b not greater than a\")"
      ],
      "metadata": {
        "colab": {
          "base_uri": "https://localhost:8080/"
        },
        "id": "KEuYFPZVPBhi",
        "outputId": "f1ae849c-d75f-4214-f492-3e792300452f"
      },
      "execution_count": 1,
      "outputs": [
        {
          "output_type": "stream",
          "name": "stdout",
          "text": [
            "True\n",
            "b not greater than a\n"
          ]
        }
      ]
    }
  ]
}